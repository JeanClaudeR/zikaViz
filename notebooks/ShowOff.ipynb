{
 "cells": [
  {
   "cell_type": "markdown",
   "metadata": {},
   "source": [
    "## Use Jupyter notebook as collaboration tool"
   ]
  },
  {
   "cell_type": "markdown",
   "metadata": {},
   "source": [
    "### Learning Python by web scraping"
   ]
  },
  {
   "cell_type": "code",
   "execution_count": 1,
   "metadata": {
    "collapsed": true
   },
   "outputs": [],
   "source": [
    "####################################################\n",
    "# Goal : Scraping the data on Zika virus           #\n",
    "# Author : Jean-Claude Razafindrakoto              #\n",
    "# Date : 2016-09-06                                #\n",
    "# Python : 3.5.2 (Anaconda 4.1.11)                 #\n",
    "####################################################\n",
    "\n",
    "# Libraries import\n",
    "from lxml import html\n",
    "import requests\n",
    "import pandas as pd\n",
    "# FOR FUNCTIONAL PROGRAMMING\n",
    "#import cytoolz  # pipe\n",
    "#import cytoolz.curried  # map"
   ]
  }
 ],
 "metadata": {
  "kernelspec": {
   "display_name": "Python [default]",
   "language": "python",
   "name": "python3"
  },
  "language_info": {
   "codemirror_mode": {
    "name": "ipython",
    "version": 3
   },
   "file_extension": ".py",
   "mimetype": "text/x-python",
   "name": "python",
   "nbconvert_exporter": "python",
   "pygments_lexer": "ipython3",
   "version": "3.5.2"
  }
 },
 "nbformat": 4,
 "nbformat_minor": 1
}
